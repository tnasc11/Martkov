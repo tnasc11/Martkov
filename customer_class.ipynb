{
 "cells": [
  {
   "cell_type": "code",
   "execution_count": 1,
   "id": "9ebc33b6",
   "metadata": {},
   "outputs": [],
   "source": [
    "import itertools\n",
    "\n",
    "class Customer:\n",
    "    id_iter = itertools.count()\n",
    "    \n",
    "    def __init__(self): #,*name\n",
    "        self.identifier = next(Customer.id_iter)\n",
    "        self.state = 'entry'\n",
    "       # if name:\n",
    "           # self.name = name\n",
    "        self.status = 'active'\n",
    "\n",
    "    def __repr__(self):\n",
    "        return f'<Customer {self.identifier} moves toward {self.state}>'"
   ]
  },
  {
   "cell_type": "code",
   "execution_count": null,
   "id": "31d2b342",
   "metadata": {},
   "outputs": [],
   "source": []
  }
 ],
 "metadata": {
  "kernelspec": {
   "display_name": "Python 3 (ipykernel)",
   "language": "python",
   "name": "python3"
  },
  "language_info": {
   "codemirror_mode": {
    "name": "ipython",
    "version": 3
   },
   "file_extension": ".py",
   "mimetype": "text/x-python",
   "name": "python",
   "nbconvert_exporter": "python",
   "pygments_lexer": "ipython3",
   "version": "3.9.12"
  }
 },
 "nbformat": 4,
 "nbformat_minor": 5
}
