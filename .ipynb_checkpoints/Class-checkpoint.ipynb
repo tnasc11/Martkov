{
 "cells": [
  {
   "cell_type": "code",
   "execution_count": 6,
   "id": "f1a53133",
   "metadata": {},
   "outputs": [],
   "source": [
    "import numpy as np\n",
    "import abc\n",
    "class Customer:\n",
    "    \"\"\"\n",
    "    Here we will define the customers in our supermarket!\n",
    "    \n",
    "    Needed parameters:\n",
    "    -give customer random id\n",
    "    -set random walk as empty list\n",
    "    -start timer (in minutes)\n",
    "    -probability matrix to predict next state\n",
    "    -while location != 'checkout', predict next state and append to random walk\n",
    "    -when customer reaches checkout, leave the store and print their journey & time\n",
    "    \"\"\"\n",
    "\n",
    "cust1 = Customer()\n",
    "#cust1 = Customer(\"Jake\", \"entry\")\n",
    "def __init__(self, name, state, probability_matrix):\n",
    "    self.name = name\n",
    "    self.state = state\n",
    "    self.transition_matrix=tm\n",
    "\n",
    "def move(self):\n",
    "    tm=self.transition_matrix\n",
    "    new_state=random.choices(list(tm.columns),weights=list(tm.loc[self.location]))[0]\n",
    "    self.location=new_state\n",
    "\n",
    "    \n",
    "def __repr__(self):\n",
    "    return f'<Customer {self.name} in {self.state}>'\n",
    "\n",
    "\n",
    "\n",
    "\n",
    "#if __name__ == \"__main__\":\n",
    " #   competitor = Competitor(10)\n",
    "  #  print(competitor)"
   ]
  },
  {
   "cell_type": "code",
   "execution_count": null,
   "id": "0a6a33e3",
   "metadata": {},
   "outputs": [],
   "source": []
  }
 ],
 "metadata": {
  "kernelspec": {
   "display_name": "Python 3 (ipykernel)",
   "language": "python",
   "name": "python3"
  },
  "language_info": {
   "codemirror_mode": {
    "name": "ipython",
    "version": 3
   },
   "file_extension": ".py",
   "mimetype": "text/x-python",
   "name": "python",
   "nbconvert_exporter": "python",
   "pygments_lexer": "ipython3",
   "version": "3.9.12"
  }
 },
 "nbformat": 4,
 "nbformat_minor": 5
}
