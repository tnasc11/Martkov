{
 "cells": [
  {
   "cell_type": "code",
   "execution_count": 26,
   "id": "5e9db2d3",
   "metadata": {},
   "outputs": [],
   "source": [
    "import numpy as np\n",
    "import abc\n",
    "import random\n",
    "class Customer:\n",
    "    \"\"\"\n",
    "    Here we will define the customers in our supermarket!\n",
    "    \n",
    "    Needed parameters:\n",
    "    -give customer random id\n",
    "    -set random walk as empty list\n",
    "    -start timer (in minutes)\n",
    "    -probability matrix to predict next state\n",
    "    -while location != 'checkout', predict next state and append to random walk\n",
    "    -when customer reaches checkout, leave the store and print their journey & time\n",
    "    \"\"\"\n",
    "\n",
    "#cust1 = Customer()\n",
    "#cust1 = Customer(\"Jake\", \"entry\")\n",
    "def __init__(self):\n",
    "    self.name = name\n",
    "    self.location = location\n",
    "    self.transition_matrix=tm\n",
    "\n",
    "def move(self):\n",
    "    tm=self.transition_matrix\n",
    "    new_location=random.choices(list(tm.columns),weights=list(tm.loc[self.location]))[0]\n",
    "    self.location=new_location\n",
    "\n",
    "    \n",
    "def __repr__(self):\n",
    "    return f'<Customer {self.name} in {self.location}>'\n",
    "\n",
    "\n",
    "\n",
    "\n",
    "#if __name__ == \"__main__\":\n",
    " #   competitor = Competitor(10)\n",
    "  #  print(competitor)"
   ]
  },
  {
   "cell_type": "code",
   "execution_count": 30,
   "id": "96a6ce3a",
   "metadata": {},
   "outputs": [
    {
     "ename": "AttributeError",
     "evalue": "'Customer' object has no attribute 'move'",
     "output_type": "error",
     "traceback": [
      "\u001b[0;31m---------------------------------------------------------------------------\u001b[0m",
      "\u001b[0;31mAttributeError\u001b[0m                            Traceback (most recent call last)",
      "Input \u001b[0;32mIn [30]\u001b[0m, in \u001b[0;36m<cell line: 2>\u001b[0;34m()\u001b[0m\n\u001b[1;32m      1\u001b[0m cust1 \u001b[38;5;241m=\u001b[39m Customer()\n\u001b[0;32m----> 2\u001b[0m \u001b[43mcust1\u001b[49m\u001b[38;5;241;43m.\u001b[39;49m\u001b[43mmove\u001b[49m()\n",
      "\u001b[0;31mAttributeError\u001b[0m: 'Customer' object has no attribute 'move'"
     ]
    }
   ],
   "source": [
    "cust1 = Customer()\n",
    "cust1.move()"
   ]
  }
 ],
 "metadata": {
  "kernelspec": {
   "display_name": "Python 3 (ipykernel)",
   "language": "python",
   "name": "python3"
  },
  "language_info": {
   "codemirror_mode": {
    "name": "ipython",
    "version": 3
   },
   "file_extension": ".py",
   "mimetype": "text/x-python",
   "name": "python",
   "nbconvert_exporter": "python",
   "pygments_lexer": "ipython3",
   "version": "3.9.12"
  }
 },
 "nbformat": 4,
 "nbformat_minor": 5
}
