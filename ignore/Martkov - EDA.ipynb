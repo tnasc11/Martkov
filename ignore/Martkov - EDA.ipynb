{
 "cells": [
  {
   "cell_type": "code",
   "execution_count": 2,
   "id": "8da4a7ef",
   "metadata": {},
   "outputs": [],
   "source": [
    "import pandas as pd\n",
    "import numpy as np\n",
    "import random"
   ]
  },
  {
   "cell_type": "code",
   "execution_count": 3,
   "id": "6a2d3460",
   "metadata": {},
   "outputs": [
    {
     "ename": "FileNotFoundError",
     "evalue": "[Errno 2] No such file or directory: 'monday.csv'",
     "output_type": "error",
     "traceback": [
      "\u001b[0;31m---------------------------------------------------------------------------\u001b[0m",
      "\u001b[0;31mFileNotFoundError\u001b[0m                         Traceback (most recent call last)",
      "Input \u001b[0;32mIn [3]\u001b[0m, in \u001b[0;36m<cell line: 1>\u001b[0;34m()\u001b[0m\n\u001b[0;32m----> 1\u001b[0m mon \u001b[38;5;241m=\u001b[39m \u001b[43mpd\u001b[49m\u001b[38;5;241;43m.\u001b[39;49m\u001b[43mread_csv\u001b[49m\u001b[43m(\u001b[49m\u001b[38;5;124;43m'\u001b[39;49m\u001b[38;5;124;43mmonday.csv\u001b[39;49m\u001b[38;5;124;43m'\u001b[39;49m\u001b[43m,\u001b[49m\u001b[43m \u001b[49m\u001b[43msep\u001b[49m\u001b[38;5;241;43m=\u001b[39;49m\u001b[38;5;124;43m'\u001b[39;49m\u001b[38;5;124;43m;\u001b[39;49m\u001b[38;5;124;43m'\u001b[39;49m\u001b[43m,\u001b[49m\u001b[43m \u001b[49m\u001b[43mparse_dates\u001b[49m\u001b[38;5;241;43m=\u001b[39;49m\u001b[38;5;28;43;01mTrue\u001b[39;49;00m\u001b[43m)\u001b[49m\n\u001b[1;32m      2\u001b[0m tues \u001b[38;5;241m=\u001b[39m pd\u001b[38;5;241m.\u001b[39mread_csv(\u001b[38;5;124m'\u001b[39m\u001b[38;5;124mtuesday.csv\u001b[39m\u001b[38;5;124m'\u001b[39m, sep\u001b[38;5;241m=\u001b[39m\u001b[38;5;124m'\u001b[39m\u001b[38;5;124m;\u001b[39m\u001b[38;5;124m'\u001b[39m, parse_dates\u001b[38;5;241m=\u001b[39m\u001b[38;5;28;01mTrue\u001b[39;00m)\n\u001b[1;32m      3\u001b[0m wed \u001b[38;5;241m=\u001b[39m pd\u001b[38;5;241m.\u001b[39mread_csv(\u001b[38;5;124m'\u001b[39m\u001b[38;5;124mwednesday.csv\u001b[39m\u001b[38;5;124m'\u001b[39m, sep\u001b[38;5;241m=\u001b[39m\u001b[38;5;124m'\u001b[39m\u001b[38;5;124m;\u001b[39m\u001b[38;5;124m'\u001b[39m, parse_dates\u001b[38;5;241m=\u001b[39m\u001b[38;5;28;01mTrue\u001b[39;00m)\n",
      "File \u001b[0;32m~/opt/anaconda3/lib/python3.9/site-packages/pandas/util/_decorators.py:311\u001b[0m, in \u001b[0;36mdeprecate_nonkeyword_arguments.<locals>.decorate.<locals>.wrapper\u001b[0;34m(*args, **kwargs)\u001b[0m\n\u001b[1;32m    305\u001b[0m \u001b[38;5;28;01mif\u001b[39;00m \u001b[38;5;28mlen\u001b[39m(args) \u001b[38;5;241m>\u001b[39m num_allow_args:\n\u001b[1;32m    306\u001b[0m     warnings\u001b[38;5;241m.\u001b[39mwarn(\n\u001b[1;32m    307\u001b[0m         msg\u001b[38;5;241m.\u001b[39mformat(arguments\u001b[38;5;241m=\u001b[39marguments),\n\u001b[1;32m    308\u001b[0m         \u001b[38;5;167;01mFutureWarning\u001b[39;00m,\n\u001b[1;32m    309\u001b[0m         stacklevel\u001b[38;5;241m=\u001b[39mstacklevel,\n\u001b[1;32m    310\u001b[0m     )\n\u001b[0;32m--> 311\u001b[0m \u001b[38;5;28;01mreturn\u001b[39;00m \u001b[43mfunc\u001b[49m\u001b[43m(\u001b[49m\u001b[38;5;241;43m*\u001b[39;49m\u001b[43margs\u001b[49m\u001b[43m,\u001b[49m\u001b[43m \u001b[49m\u001b[38;5;241;43m*\u001b[39;49m\u001b[38;5;241;43m*\u001b[39;49m\u001b[43mkwargs\u001b[49m\u001b[43m)\u001b[49m\n",
      "File \u001b[0;32m~/opt/anaconda3/lib/python3.9/site-packages/pandas/io/parsers/readers.py:680\u001b[0m, in \u001b[0;36mread_csv\u001b[0;34m(filepath_or_buffer, sep, delimiter, header, names, index_col, usecols, squeeze, prefix, mangle_dupe_cols, dtype, engine, converters, true_values, false_values, skipinitialspace, skiprows, skipfooter, nrows, na_values, keep_default_na, na_filter, verbose, skip_blank_lines, parse_dates, infer_datetime_format, keep_date_col, date_parser, dayfirst, cache_dates, iterator, chunksize, compression, thousands, decimal, lineterminator, quotechar, quoting, doublequote, escapechar, comment, encoding, encoding_errors, dialect, error_bad_lines, warn_bad_lines, on_bad_lines, delim_whitespace, low_memory, memory_map, float_precision, storage_options)\u001b[0m\n\u001b[1;32m    665\u001b[0m kwds_defaults \u001b[38;5;241m=\u001b[39m _refine_defaults_read(\n\u001b[1;32m    666\u001b[0m     dialect,\n\u001b[1;32m    667\u001b[0m     delimiter,\n\u001b[0;32m   (...)\u001b[0m\n\u001b[1;32m    676\u001b[0m     defaults\u001b[38;5;241m=\u001b[39m{\u001b[38;5;124m\"\u001b[39m\u001b[38;5;124mdelimiter\u001b[39m\u001b[38;5;124m\"\u001b[39m: \u001b[38;5;124m\"\u001b[39m\u001b[38;5;124m,\u001b[39m\u001b[38;5;124m\"\u001b[39m},\n\u001b[1;32m    677\u001b[0m )\n\u001b[1;32m    678\u001b[0m kwds\u001b[38;5;241m.\u001b[39mupdate(kwds_defaults)\n\u001b[0;32m--> 680\u001b[0m \u001b[38;5;28;01mreturn\u001b[39;00m \u001b[43m_read\u001b[49m\u001b[43m(\u001b[49m\u001b[43mfilepath_or_buffer\u001b[49m\u001b[43m,\u001b[49m\u001b[43m \u001b[49m\u001b[43mkwds\u001b[49m\u001b[43m)\u001b[49m\n",
      "File \u001b[0;32m~/opt/anaconda3/lib/python3.9/site-packages/pandas/io/parsers/readers.py:575\u001b[0m, in \u001b[0;36m_read\u001b[0;34m(filepath_or_buffer, kwds)\u001b[0m\n\u001b[1;32m    572\u001b[0m _validate_names(kwds\u001b[38;5;241m.\u001b[39mget(\u001b[38;5;124m\"\u001b[39m\u001b[38;5;124mnames\u001b[39m\u001b[38;5;124m\"\u001b[39m, \u001b[38;5;28;01mNone\u001b[39;00m))\n\u001b[1;32m    574\u001b[0m \u001b[38;5;66;03m# Create the parser.\u001b[39;00m\n\u001b[0;32m--> 575\u001b[0m parser \u001b[38;5;241m=\u001b[39m \u001b[43mTextFileReader\u001b[49m\u001b[43m(\u001b[49m\u001b[43mfilepath_or_buffer\u001b[49m\u001b[43m,\u001b[49m\u001b[43m \u001b[49m\u001b[38;5;241;43m*\u001b[39;49m\u001b[38;5;241;43m*\u001b[39;49m\u001b[43mkwds\u001b[49m\u001b[43m)\u001b[49m\n\u001b[1;32m    577\u001b[0m \u001b[38;5;28;01mif\u001b[39;00m chunksize \u001b[38;5;129;01mor\u001b[39;00m iterator:\n\u001b[1;32m    578\u001b[0m     \u001b[38;5;28;01mreturn\u001b[39;00m parser\n",
      "File \u001b[0;32m~/opt/anaconda3/lib/python3.9/site-packages/pandas/io/parsers/readers.py:933\u001b[0m, in \u001b[0;36mTextFileReader.__init__\u001b[0;34m(self, f, engine, **kwds)\u001b[0m\n\u001b[1;32m    930\u001b[0m     \u001b[38;5;28mself\u001b[39m\u001b[38;5;241m.\u001b[39moptions[\u001b[38;5;124m\"\u001b[39m\u001b[38;5;124mhas_index_names\u001b[39m\u001b[38;5;124m\"\u001b[39m] \u001b[38;5;241m=\u001b[39m kwds[\u001b[38;5;124m\"\u001b[39m\u001b[38;5;124mhas_index_names\u001b[39m\u001b[38;5;124m\"\u001b[39m]\n\u001b[1;32m    932\u001b[0m \u001b[38;5;28mself\u001b[39m\u001b[38;5;241m.\u001b[39mhandles: IOHandles \u001b[38;5;241m|\u001b[39m \u001b[38;5;28;01mNone\u001b[39;00m \u001b[38;5;241m=\u001b[39m \u001b[38;5;28;01mNone\u001b[39;00m\n\u001b[0;32m--> 933\u001b[0m \u001b[38;5;28mself\u001b[39m\u001b[38;5;241m.\u001b[39m_engine \u001b[38;5;241m=\u001b[39m \u001b[38;5;28;43mself\u001b[39;49m\u001b[38;5;241;43m.\u001b[39;49m\u001b[43m_make_engine\u001b[49m\u001b[43m(\u001b[49m\u001b[43mf\u001b[49m\u001b[43m,\u001b[49m\u001b[43m \u001b[49m\u001b[38;5;28;43mself\u001b[39;49m\u001b[38;5;241;43m.\u001b[39;49m\u001b[43mengine\u001b[49m\u001b[43m)\u001b[49m\n",
      "File \u001b[0;32m~/opt/anaconda3/lib/python3.9/site-packages/pandas/io/parsers/readers.py:1217\u001b[0m, in \u001b[0;36mTextFileReader._make_engine\u001b[0;34m(self, f, engine)\u001b[0m\n\u001b[1;32m   1213\u001b[0m     mode \u001b[38;5;241m=\u001b[39m \u001b[38;5;124m\"\u001b[39m\u001b[38;5;124mrb\u001b[39m\u001b[38;5;124m\"\u001b[39m\n\u001b[1;32m   1214\u001b[0m \u001b[38;5;66;03m# error: No overload variant of \"get_handle\" matches argument types\u001b[39;00m\n\u001b[1;32m   1215\u001b[0m \u001b[38;5;66;03m# \"Union[str, PathLike[str], ReadCsvBuffer[bytes], ReadCsvBuffer[str]]\"\u001b[39;00m\n\u001b[1;32m   1216\u001b[0m \u001b[38;5;66;03m# , \"str\", \"bool\", \"Any\", \"Any\", \"Any\", \"Any\", \"Any\"\u001b[39;00m\n\u001b[0;32m-> 1217\u001b[0m \u001b[38;5;28mself\u001b[39m\u001b[38;5;241m.\u001b[39mhandles \u001b[38;5;241m=\u001b[39m \u001b[43mget_handle\u001b[49m\u001b[43m(\u001b[49m\u001b[43m  \u001b[49m\u001b[38;5;66;43;03m# type: ignore[call-overload]\u001b[39;49;00m\n\u001b[1;32m   1218\u001b[0m \u001b[43m    \u001b[49m\u001b[43mf\u001b[49m\u001b[43m,\u001b[49m\n\u001b[1;32m   1219\u001b[0m \u001b[43m    \u001b[49m\u001b[43mmode\u001b[49m\u001b[43m,\u001b[49m\n\u001b[1;32m   1220\u001b[0m \u001b[43m    \u001b[49m\u001b[43mencoding\u001b[49m\u001b[38;5;241;43m=\u001b[39;49m\u001b[38;5;28;43mself\u001b[39;49m\u001b[38;5;241;43m.\u001b[39;49m\u001b[43moptions\u001b[49m\u001b[38;5;241;43m.\u001b[39;49m\u001b[43mget\u001b[49m\u001b[43m(\u001b[49m\u001b[38;5;124;43m\"\u001b[39;49m\u001b[38;5;124;43mencoding\u001b[39;49m\u001b[38;5;124;43m\"\u001b[39;49m\u001b[43m,\u001b[49m\u001b[43m \u001b[49m\u001b[38;5;28;43;01mNone\u001b[39;49;00m\u001b[43m)\u001b[49m\u001b[43m,\u001b[49m\n\u001b[1;32m   1221\u001b[0m \u001b[43m    \u001b[49m\u001b[43mcompression\u001b[49m\u001b[38;5;241;43m=\u001b[39;49m\u001b[38;5;28;43mself\u001b[39;49m\u001b[38;5;241;43m.\u001b[39;49m\u001b[43moptions\u001b[49m\u001b[38;5;241;43m.\u001b[39;49m\u001b[43mget\u001b[49m\u001b[43m(\u001b[49m\u001b[38;5;124;43m\"\u001b[39;49m\u001b[38;5;124;43mcompression\u001b[39;49m\u001b[38;5;124;43m\"\u001b[39;49m\u001b[43m,\u001b[49m\u001b[43m \u001b[49m\u001b[38;5;28;43;01mNone\u001b[39;49;00m\u001b[43m)\u001b[49m\u001b[43m,\u001b[49m\n\u001b[1;32m   1222\u001b[0m \u001b[43m    \u001b[49m\u001b[43mmemory_map\u001b[49m\u001b[38;5;241;43m=\u001b[39;49m\u001b[38;5;28;43mself\u001b[39;49m\u001b[38;5;241;43m.\u001b[39;49m\u001b[43moptions\u001b[49m\u001b[38;5;241;43m.\u001b[39;49m\u001b[43mget\u001b[49m\u001b[43m(\u001b[49m\u001b[38;5;124;43m\"\u001b[39;49m\u001b[38;5;124;43mmemory_map\u001b[39;49m\u001b[38;5;124;43m\"\u001b[39;49m\u001b[43m,\u001b[49m\u001b[43m \u001b[49m\u001b[38;5;28;43;01mFalse\u001b[39;49;00m\u001b[43m)\u001b[49m\u001b[43m,\u001b[49m\n\u001b[1;32m   1223\u001b[0m \u001b[43m    \u001b[49m\u001b[43mis_text\u001b[49m\u001b[38;5;241;43m=\u001b[39;49m\u001b[43mis_text\u001b[49m\u001b[43m,\u001b[49m\n\u001b[1;32m   1224\u001b[0m \u001b[43m    \u001b[49m\u001b[43merrors\u001b[49m\u001b[38;5;241;43m=\u001b[39;49m\u001b[38;5;28;43mself\u001b[39;49m\u001b[38;5;241;43m.\u001b[39;49m\u001b[43moptions\u001b[49m\u001b[38;5;241;43m.\u001b[39;49m\u001b[43mget\u001b[49m\u001b[43m(\u001b[49m\u001b[38;5;124;43m\"\u001b[39;49m\u001b[38;5;124;43mencoding_errors\u001b[39;49m\u001b[38;5;124;43m\"\u001b[39;49m\u001b[43m,\u001b[49m\u001b[43m \u001b[49m\u001b[38;5;124;43m\"\u001b[39;49m\u001b[38;5;124;43mstrict\u001b[39;49m\u001b[38;5;124;43m\"\u001b[39;49m\u001b[43m)\u001b[49m\u001b[43m,\u001b[49m\n\u001b[1;32m   1225\u001b[0m \u001b[43m    \u001b[49m\u001b[43mstorage_options\u001b[49m\u001b[38;5;241;43m=\u001b[39;49m\u001b[38;5;28;43mself\u001b[39;49m\u001b[38;5;241;43m.\u001b[39;49m\u001b[43moptions\u001b[49m\u001b[38;5;241;43m.\u001b[39;49m\u001b[43mget\u001b[49m\u001b[43m(\u001b[49m\u001b[38;5;124;43m\"\u001b[39;49m\u001b[38;5;124;43mstorage_options\u001b[39;49m\u001b[38;5;124;43m\"\u001b[39;49m\u001b[43m,\u001b[49m\u001b[43m \u001b[49m\u001b[38;5;28;43;01mNone\u001b[39;49;00m\u001b[43m)\u001b[49m\u001b[43m,\u001b[49m\n\u001b[1;32m   1226\u001b[0m \u001b[43m\u001b[49m\u001b[43m)\u001b[49m\n\u001b[1;32m   1227\u001b[0m \u001b[38;5;28;01massert\u001b[39;00m \u001b[38;5;28mself\u001b[39m\u001b[38;5;241m.\u001b[39mhandles \u001b[38;5;129;01mis\u001b[39;00m \u001b[38;5;129;01mnot\u001b[39;00m \u001b[38;5;28;01mNone\u001b[39;00m\n\u001b[1;32m   1228\u001b[0m f \u001b[38;5;241m=\u001b[39m \u001b[38;5;28mself\u001b[39m\u001b[38;5;241m.\u001b[39mhandles\u001b[38;5;241m.\u001b[39mhandle\n",
      "File \u001b[0;32m~/opt/anaconda3/lib/python3.9/site-packages/pandas/io/common.py:789\u001b[0m, in \u001b[0;36mget_handle\u001b[0;34m(path_or_buf, mode, encoding, compression, memory_map, is_text, errors, storage_options)\u001b[0m\n\u001b[1;32m    784\u001b[0m \u001b[38;5;28;01melif\u001b[39;00m \u001b[38;5;28misinstance\u001b[39m(handle, \u001b[38;5;28mstr\u001b[39m):\n\u001b[1;32m    785\u001b[0m     \u001b[38;5;66;03m# Check whether the filename is to be opened in binary mode.\u001b[39;00m\n\u001b[1;32m    786\u001b[0m     \u001b[38;5;66;03m# Binary mode does not support 'encoding' and 'newline'.\u001b[39;00m\n\u001b[1;32m    787\u001b[0m     \u001b[38;5;28;01mif\u001b[39;00m ioargs\u001b[38;5;241m.\u001b[39mencoding \u001b[38;5;129;01mand\u001b[39;00m \u001b[38;5;124m\"\u001b[39m\u001b[38;5;124mb\u001b[39m\u001b[38;5;124m\"\u001b[39m \u001b[38;5;129;01mnot\u001b[39;00m \u001b[38;5;129;01min\u001b[39;00m ioargs\u001b[38;5;241m.\u001b[39mmode:\n\u001b[1;32m    788\u001b[0m         \u001b[38;5;66;03m# Encoding\u001b[39;00m\n\u001b[0;32m--> 789\u001b[0m         handle \u001b[38;5;241m=\u001b[39m \u001b[38;5;28;43mopen\u001b[39;49m\u001b[43m(\u001b[49m\n\u001b[1;32m    790\u001b[0m \u001b[43m            \u001b[49m\u001b[43mhandle\u001b[49m\u001b[43m,\u001b[49m\n\u001b[1;32m    791\u001b[0m \u001b[43m            \u001b[49m\u001b[43mioargs\u001b[49m\u001b[38;5;241;43m.\u001b[39;49m\u001b[43mmode\u001b[49m\u001b[43m,\u001b[49m\n\u001b[1;32m    792\u001b[0m \u001b[43m            \u001b[49m\u001b[43mencoding\u001b[49m\u001b[38;5;241;43m=\u001b[39;49m\u001b[43mioargs\u001b[49m\u001b[38;5;241;43m.\u001b[39;49m\u001b[43mencoding\u001b[49m\u001b[43m,\u001b[49m\n\u001b[1;32m    793\u001b[0m \u001b[43m            \u001b[49m\u001b[43merrors\u001b[49m\u001b[38;5;241;43m=\u001b[39;49m\u001b[43merrors\u001b[49m\u001b[43m,\u001b[49m\n\u001b[1;32m    794\u001b[0m \u001b[43m            \u001b[49m\u001b[43mnewline\u001b[49m\u001b[38;5;241;43m=\u001b[39;49m\u001b[38;5;124;43m\"\u001b[39;49m\u001b[38;5;124;43m\"\u001b[39;49m\u001b[43m,\u001b[49m\n\u001b[1;32m    795\u001b[0m \u001b[43m        \u001b[49m\u001b[43m)\u001b[49m\n\u001b[1;32m    796\u001b[0m     \u001b[38;5;28;01melse\u001b[39;00m:\n\u001b[1;32m    797\u001b[0m         \u001b[38;5;66;03m# Binary mode\u001b[39;00m\n\u001b[1;32m    798\u001b[0m         handle \u001b[38;5;241m=\u001b[39m \u001b[38;5;28mopen\u001b[39m(handle, ioargs\u001b[38;5;241m.\u001b[39mmode)\n",
      "\u001b[0;31mFileNotFoundError\u001b[0m: [Errno 2] No such file or directory: 'monday.csv'"
     ]
    }
   ],
   "source": [
    "mon = pd.read_csv('monday.csv', sep=';', parse_dates=True)\n",
    "tues = pd.read_csv('tuesday.csv', sep=';', parse_dates=True)\n",
    "wed = pd.read_csv('wednesday.csv', sep=';', parse_dates=True)\n",
    "thurs = pd.read_csv('thursday.csv', sep=';', parse_dates=True)\n",
    "fri =  pd.read_csv('friday.csv', sep=';', parse_dates=True)"
   ]
  },
  {
   "cell_type": "code",
   "execution_count": null,
   "id": "3e6421ba",
   "metadata": {},
   "outputs": [],
   "source": [
    "mon[\"customer_no\"] = \"mon_\" + mon[\"customer_no\"].astype(str)"
   ]
  },
  {
   "cell_type": "code",
   "execution_count": null,
   "id": "0ed86284",
   "metadata": {},
   "outputs": [],
   "source": [
    "mon"
   ]
  },
  {
   "cell_type": "code",
   "execution_count": null,
   "id": "5063d061",
   "metadata": {},
   "outputs": [],
   "source": [
    "mon.tail(40)"
   ]
  },
  {
   "cell_type": "code",
   "execution_count": null,
   "id": "dfe2f467",
   "metadata": {},
   "outputs": [],
   "source": [
    "tues[\"customer_no\"] = \"tues_\" + tues[\"customer_no\"].astype(str)\n",
    "wed[\"customer_no\"] = \"wed_\" + wed[\"customer_no\"].astype(str)\n",
    "thurs[\"customer_no\"] = \"thurs_\" + thurs[\"customer_no\"].astype(str)\n",
    "fri[\"customer_no\"] = \"fri_\" + fri[\"customer_no\"].astype(str)"
   ]
  },
  {
   "cell_type": "code",
   "execution_count": null,
   "id": "5049de23",
   "metadata": {},
   "outputs": [],
   "source": [
    "#mon = mon.set_index('timestamp')\n",
    "#mon.index = pd.to_datetime(mon.index)"
   ]
  },
  {
   "cell_type": "code",
   "execution_count": null,
   "id": "05fcd5c1",
   "metadata": {},
   "outputs": [],
   "source": [
    "mon"
   ]
  },
  {
   "cell_type": "code",
   "execution_count": null,
   "id": "5ec12695",
   "metadata": {},
   "outputs": [],
   "source": [
    "tues"
   ]
  },
  {
   "cell_type": "code",
   "execution_count": null,
   "id": "97479bb4",
   "metadata": {},
   "outputs": [],
   "source": [
    "#tues = tues.set_index('timestamp')\n",
    "#tues.index = pd.to_datetime(tues.index)\n",
    "#wed = wed.set_index('timestamp')\n",
    "#wed.index = pd.to_datetime(wed.index)\n",
    "#thurs = thurs.set_index('timestamp')\n",
    "#thurs.index = pd.to_datetime(thurs.index)\n",
    "#fri = fri.set_index('timestamp')\n",
    "#fri.index = pd.to_datetime(fri.index)"
   ]
  },
  {
   "cell_type": "code",
   "execution_count": null,
   "id": "7503753f",
   "metadata": {},
   "outputs": [],
   "source": [
    "#monday_grouped = mon.groupby('customer_no').resample('1T').ffill()"
   ]
  },
  {
   "cell_type": "code",
   "execution_count": null,
   "id": "72808d7f",
   "metadata": {},
   "outputs": [],
   "source": [
    "#monday_grouped\n"
   ]
  },
  {
   "cell_type": "code",
   "execution_count": null,
   "id": "2d1ed96a",
   "metadata": {},
   "outputs": [],
   "source": [
    "#monday_grouped.loc[monday_grouped['customer_no'] == 'mon_1447']"
   ]
  },
  {
   "cell_type": "code",
   "execution_count": null,
   "id": "4ca90d62",
   "metadata": {},
   "outputs": [],
   "source": [
    "loc = mon.groupby('location').count()"
   ]
  },
  {
   "cell_type": "code",
   "execution_count": null,
   "id": "a186f5ab",
   "metadata": {},
   "outputs": [],
   "source": [
    "loc"
   ]
  },
  {
   "cell_type": "code",
   "execution_count": null,
   "id": "4602f017",
   "metadata": {},
   "outputs": [],
   "source": [
    "def count_location(df):\n",
    "    return df.groupby('location').count()"
   ]
  },
  {
   "cell_type": "code",
   "execution_count": null,
   "id": "de35cb2c",
   "metadata": {},
   "outputs": [],
   "source": [
    "count_location(tues)"
   ]
  },
  {
   "cell_type": "code",
   "execution_count": null,
   "id": "73b2473b",
   "metadata": {},
   "outputs": [],
   "source": [
    "count_location(wed)"
   ]
  },
  {
   "cell_type": "code",
   "execution_count": null,
   "id": "66bc8298",
   "metadata": {},
   "outputs": [],
   "source": [
    "count_location(thurs)"
   ]
  },
  {
   "cell_type": "code",
   "execution_count": null,
   "id": "09b179ba",
   "metadata": {},
   "outputs": [],
   "source": [
    "count_location(fri)"
   ]
  },
  {
   "cell_type": "code",
   "execution_count": null,
   "id": "863a5636",
   "metadata": {},
   "outputs": [],
   "source": [
    "mon_tue = count_location(mon) + count_location(tues)"
   ]
  },
  {
   "cell_type": "code",
   "execution_count": null,
   "id": "993b0c8e",
   "metadata": {},
   "outputs": [],
   "source": [
    "mon_tue"
   ]
  },
  {
   "cell_type": "code",
   "execution_count": null,
   "id": "096659c7",
   "metadata": {},
   "outputs": [],
   "source": [
    "### Calculate total over time ###\n",
    "\n",
    "weekly_total = count_location(mon) + count_location(tues) + count_location(wed) + count_location(thurs) + count_location(fri)"
   ]
  },
  {
   "cell_type": "code",
   "execution_count": null,
   "id": "fbd4835e",
   "metadata": {},
   "outputs": [],
   "source": [
    "weekly_total"
   ]
  },
  {
   "cell_type": "code",
   "execution_count": null,
   "id": "0bcb1bf6",
   "metadata": {},
   "outputs": [],
   "source": [
    "mon.loc[mon['location'] == 'checkout']"
   ]
  },
  {
   "cell_type": "code",
   "execution_count": null,
   "id": "9a037f37",
   "metadata": {},
   "outputs": [],
   "source": [
    "#def late_checkout(df):\n",
    "    #finished_customers = []\n",
    "    #late_customers = []\n",
    "    #for customer_no in df:\n",
    "        #if df.loc[df['location'] == 'checkout']:\n",
    "            #finished_customers.append('customer_no')\n",
    "        #else:\n",
    "            #late_customers.append('customer_no')\n",
    "    #return late_customers"
   ]
  },
  {
   "cell_type": "code",
   "execution_count": null,
   "id": "eea28c5e",
   "metadata": {},
   "outputs": [],
   "source": [
    "### create a function to identify late customers ###\n",
    "\n",
    "import time, datetime\n",
    "from datetime import datetime, timedelta\n",
    "\n",
    "def late_checkout(df):\n",
    "    df['timestamp'] = pd.to_datetime(df['timestamp'])\n",
    "    timestamp =  df['timestamp'].iloc[-1] + timedelta(minutes = 1)\n",
    "    \n",
    "    data_checkout = df.loc[df['location'] == 'checkout']\n",
    "    customers_with_checkout = data_checkout['customer_no'].unique()\n",
    "    customer_ids = df['customer_no'].unique()\n",
    "    customers_without_checkout = np.setxor1d(customers_with_checkout, customer_ids)\n",
    "    # function which compares arrays for mismatching values\n",
    "    \n",
    "    for ids in customers_without_checkout:\n",
    "        new_row = pd.DataFrame({'timestamp':timestamp, 'customer_no':ids, 'location':'checkout'}, index =[0])\n",
    "        df = pd.concat([df, new_row]).reset_index(drop = True)\n",
    "    \n",
    "    return df"
   ]
  },
  {
   "cell_type": "code",
   "execution_count": null,
   "id": "bb313294",
   "metadata": {},
   "outputs": [],
   "source": [
    "late_checkout(mon)\n",
    "late_checkout(tues)\n",
    "late_checkout(wed)\n",
    "late_checkout(thurs)\n",
    "late_checkout(fri)"
   ]
  },
  {
   "cell_type": "code",
   "execution_count": null,
   "id": "3a29f35e",
   "metadata": {},
   "outputs": [],
   "source": [
    "### turn index to datetimeindex ###\n",
    "\n",
    "def datetimeindex(df):\n",
    "    df = df.set_index('timestamp')\n",
    "    df.index = pd.to_datetime(df.index)"
   ]
  },
  {
   "cell_type": "code",
   "execution_count": null,
   "id": "656ddb95",
   "metadata": {},
   "outputs": [],
   "source": [
    "time_of_entry = mon.groupby('customer_no')['timestamp'].first()"
   ]
  },
  {
   "cell_type": "code",
   "execution_count": null,
   "id": "7fb8196a",
   "metadata": {},
   "outputs": [],
   "source": [
    "time_of_entry.shape"
   ]
  },
  {
   "cell_type": "code",
   "execution_count": null,
   "id": "dc2dc0d9",
   "metadata": {},
   "outputs": [],
   "source": [
    "time_of_entry"
   ]
  },
  {
   "cell_type": "code",
   "execution_count": null,
   "id": "e3ffb2a2",
   "metadata": {},
   "outputs": [],
   "source": [
    "timestamp = time_of_entry - timedelta(minutes=1)"
   ]
  },
  {
   "cell_type": "code",
   "execution_count": null,
   "id": "1e3aca91",
   "metadata": {},
   "outputs": [],
   "source": [
    "timestamp"
   ]
  },
  {
   "cell_type": "code",
   "execution_count": null,
   "id": "4aa9d0ff",
   "metadata": {},
   "outputs": [],
   "source": [
    "### create entry point ###\n",
    "\n",
    "def customer_entry(df):\n",
    "    df['timestamp'] = pd.to_datetime(df['timestamp'])\n",
    "    time_of_entry = df.groupby('customer_no')['timestamp'].first()\n",
    "    timestamp = time_of_entry - timedelta(minutes=1)\n",
    "    customer_ids = df['customer_no'].unique()\n",
    "    \n",
    "    for ids in customer_ids:\n",
    "        new_row = pd.DataFrame({'timestamp':timestamp, 'customer_no':ids, 'location':'entry'}, index =[0])\n",
    "        df = pd.concat([df, new_row]).reset_index(drop = True)\n",
    "    \n",
    "    return df"
   ]
  },
  {
   "cell_type": "code",
   "execution_count": null,
   "id": "99cf591f",
   "metadata": {},
   "outputs": [],
   "source": [
    "def customer_enters(df):\n",
    "    df_entry = pd.DataFrame(df.groupby('customer_no').first()['timestamp'] - timedelta(minutes=1))\n",
    "    df_entry['location'] = 'entry'\n",
    "    df_entry.reset_index(inplace=True)\n",
    "    \n",
    "    df_with_entry = pd.concat([df, df_entry]).sort_values(['timestamp','location'])\n",
    "    \n",
    "    return df_with_entry"
   ]
  },
  {
   "cell_type": "code",
   "execution_count": null,
   "id": "85dd050b",
   "metadata": {},
   "outputs": [],
   "source": [
    "test = customer_enters(mon)\n",
    "test = late_checkout(test)"
   ]
  },
  {
   "cell_type": "code",
   "execution_count": null,
   "id": "972487ab",
   "metadata": {},
   "outputs": [],
   "source": [
    "mon.loc[mon['customer_no'] == 'mon_1447']"
   ]
  },
  {
   "cell_type": "code",
   "execution_count": null,
   "id": "ae8357b9",
   "metadata": {},
   "outputs": [],
   "source": [
    "### turn index to datetimeindex ###\n",
    "\n",
    "def datetimeindex(df):\n",
    "    df = df.set_index('timestamp')\n",
    "    df.index = pd.to_datetime(df.index)\n",
    "    return df"
   ]
  },
  {
   "cell_type": "code",
   "execution_count": null,
   "id": "ddaca01c",
   "metadata": {},
   "outputs": [],
   "source": [
    "mon.loc[mon['location'] != 'checkout'].groupby('customer_no').tail()"
   ]
  },
  {
   "cell_type": "code",
   "execution_count": null,
   "id": "cef4885e",
   "metadata": {},
   "outputs": [],
   "source": [
    "test = datetimeindex(test)"
   ]
  },
  {
   "cell_type": "code",
   "execution_count": null,
   "id": "bf57f82f",
   "metadata": {},
   "outputs": [],
   "source": [
    "test.tail(20)"
   ]
  },
  {
   "cell_type": "code",
   "execution_count": null,
   "id": "3b931a10",
   "metadata": {},
   "outputs": [],
   "source": [
    "tues = customer_enters(tues)\n",
    "tues = late_checkout(tues)\n",
    "tues = datetimeindex(tues)"
   ]
  },
  {
   "cell_type": "code",
   "execution_count": null,
   "id": "e74ca7bf",
   "metadata": {},
   "outputs": [],
   "source": [
    "tues"
   ]
  },
  {
   "cell_type": "code",
   "execution_count": null,
   "id": "1d2a4fe4",
   "metadata": {},
   "outputs": [],
   "source": [
    "wed = customer_enters(wed)\n",
    "wed = late_checkout(wed)\n",
    "wed = datetimeindex(wed)"
   ]
  },
  {
   "cell_type": "code",
   "execution_count": null,
   "id": "bd6001e5",
   "metadata": {},
   "outputs": [],
   "source": [
    "thurs = customer_enters(thurs)\n",
    "thurs = late_checkout(thurs)\n",
    "thurs = datetimeindex(thurs)"
   ]
  },
  {
   "cell_type": "code",
   "execution_count": null,
   "id": "5c6e5391",
   "metadata": {},
   "outputs": [],
   "source": [
    "fri = customer_enters(fri)\n",
    "fri = late_checkout(fri)\n",
    "fri = datetimeindex(fri)"
   ]
  },
  {
   "cell_type": "code",
   "execution_count": null,
   "id": "a513ffc2",
   "metadata": {},
   "outputs": [],
   "source": [
    "fri"
   ]
  },
  {
   "cell_type": "code",
   "execution_count": null,
   "id": "8442cd57",
   "metadata": {},
   "outputs": [],
   "source": [
    "week = pd.concat([test, tues, wed, thurs, fri]).sort_values(['timestamp','location'])"
   ]
  },
  {
   "cell_type": "code",
   "execution_count": null,
   "id": "710ff13d",
   "metadata": {},
   "outputs": [],
   "source": [
    "week"
   ]
  },
  {
   "cell_type": "code",
   "execution_count": 1,
   "id": "0bf56bf1",
   "metadata": {},
   "outputs": [
    {
     "ename": "NameError",
     "evalue": "name 'week' is not defined",
     "output_type": "error",
     "traceback": [
      "\u001b[0;31m---------------------------------------------------------------------------\u001b[0m",
      "\u001b[0;31mNameError\u001b[0m                                 Traceback (most recent call last)",
      "Input \u001b[0;32mIn [1]\u001b[0m, in \u001b[0;36m<cell line: 1>\u001b[0;34m()\u001b[0m\n\u001b[0;32m----> 1\u001b[0m weekb \u001b[38;5;241m=\u001b[39m \u001b[43mweek\u001b[49m\u001b[38;5;241m.\u001b[39mgroupby(\u001b[38;5;124m'\u001b[39m\u001b[38;5;124mid\u001b[39m\u001b[38;5;124m'\u001b[39m)\u001b[38;5;241m.\u001b[39mresample(\u001b[38;5;124m'\u001b[39m\u001b[38;5;124m1T\u001b[39m\u001b[38;5;124m'\u001b[39m)\u001b[38;5;241m.\u001b[39mfirst()\n",
      "\u001b[0;31mNameError\u001b[0m: name 'week' is not defined"
     ]
    }
   ],
   "source": [
    "weekb = week.groupby('id').resample('1T').first()"
   ]
  },
  {
   "cell_type": "code",
   "execution_count": null,
   "id": "a58f85bf",
   "metadata": {},
   "outputs": [],
   "source": []
  }
 ],
 "metadata": {
  "kernelspec": {
   "display_name": "Python 3 (ipykernel)",
   "language": "python",
   "name": "python3"
  },
  "language_info": {
   "codemirror_mode": {
    "name": "ipython",
    "version": 3
   },
   "file_extension": ".py",
   "mimetype": "text/x-python",
   "name": "python",
   "nbconvert_exporter": "python",
   "pygments_lexer": "ipython3",
   "version": "3.9.12"
  }
 },
 "nbformat": 4,
 "nbformat_minor": 5
}
