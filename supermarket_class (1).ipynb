{
 "cells": [
  {
   "cell_type": "code",
   "execution_count": 13,
   "id": "2deee65f",
   "metadata": {},
   "outputs": [],
   "source": [
    "import numpy as np\n",
    "import pandas as pd\n",
    "from datetime import datetime, timedelta\n",
    "from customer_class import Customer\n",
    "import random\n",
    "\n",
    "\n",
    "LOCATION = ['entry', 'dairy', 'drinks', 'fruit', 'spices', 'checkout']\n",
    "tm = {'entry': {'entry': 0.0,\n",
    "  'dairy': 0.0,\n",
    "  'drinks': 0.0,\n",
    "  'fruit': 0.0,\n",
    "  'spices': 0.0,\n",
    "  'checkout': 0.0},\n",
    " 'dairy': {'entry': 0.2875755540631296,\n",
    "  'dairy': 0.7369870713884205,\n",
    "  'drinks': 0.010897501799115862,\n",
    "  'fruit': 0.09586347908147216,\n",
    "  'spices': 0.19309137217446673,\n",
    "  'checkout': 0.0},\n",
    " 'drinks': {'entry': 0.15352585627938214,\n",
    "  'dairy': 0.05851602023608769,\n",
    "  'drinks': 0.5985401459854015,\n",
    "  'fruit': 0.05481283422459893,\n",
    "  'spices': 0.16300541228907992,\n",
    "  'checkout': 0.0},\n",
    " 'fruit': {'entry': 0.3774345198119543,\n",
    "  'dairy': 0.049803260258572235,\n",
    "  'drinks': 0.08789966073815153,\n",
    "  'fruit': 0.5972003774771941,\n",
    "  'spices': 0.09089461954791468,\n",
    "  'checkout': 0.0},\n",
    " 'spices': {'entry': 0.18146406984553393,\n",
    "  'dairy': 0.051320966835300734,\n",
    "  'drinks': 0.08697440115143415,\n",
    "  'fruit': 0.05064485687323057,\n",
    "  'spices': 0.402419611588666,\n",
    "  'checkout': 0.0},\n",
    " 'checkout': {'entry': 0.0,\n",
    "  'dairy': 0.10337268128161889,\n",
    "  'drinks': 0.21568829032589698,\n",
    "  'fruit': 0.20147845234350426,\n",
    "  'spices': 0.15058898439987264,\n",
    "  'checkout': 1.0}}\n",
    "\n",
    "class Supermarket:\n",
    "    \"\"\"manages multiple Customer instances that are currently in the market.\n",
    "    \"\"\"\n",
    "\n",
    "    def __init__(self):        \n",
    "        # a list of Customer objects\n",
    "        self.customers = []\n",
    "        self.minutes = 0\n",
    "        self.last_id = 0\n",
    "        self.opening_time = datetime.strptime(\"07:00:00\",\"%H:%M:%S\")\n",
    "        self.closing_time = datetime.strptime(\"22:00:00\",\"%H:%M:%S\")\n",
    "\n",
    "    def __repr__(self):\n",
    "        print (f'Welcome to MARTkov, Open 24/7')\n",
    "\n",
    "    def get_time(self):\n",
    "        \"\"\"current time in HH:MM format,\n",
    "        \"\"\"\n",
    "        current_time = self.opening_time\n",
    "        return current_time\n",
    "\n",
    "    def print_customers(self, Customer):\n",
    "        \"\"\"print all customers with the current time and id in CSV format.\n",
    "        \"\"\"\n",
    "        for cust in self.customers:\n",
    "            print(f\"{self.current_time}, Customer {Customer.identifier}, {Customer.location}\")\n",
    "\n",
    "    def next_minute(self, Customer):\n",
    "        \"\"\"propagates all customers to the next state.\n",
    "        \"\"\"\n",
    "        current_time = current_time + timedelta(minutes=1)\n",
    "        for cust in self.customers: \n",
    "            while Customer.location != 'checkout':\n",
    "                probs = tm[Customer.location]\n",
    "                next_state = random.choices(LOCATION, probs)[0]\n",
    "                Customer.location = next_state\n",
    "        return Customer.location, current_time\n",
    "    \n",
    "    def add_new_customers(self, Customer):\n",
    "        \"\"\"randomly creates new customers.\n",
    "        \"\"\"\n",
    "        if self.closing_time > self.current_time:\n",
    "            for i in range(0,10):\n",
    "                new_customer = Customer()\n",
    "                self.customers.append(new_customer)\n",
    "        return self.customers\n",
    "\n",
    "    def remove_exitsting_customers(self, Customer):\n",
    "        \"\"\"removes every customer that is not active any more.\n",
    "        \"\"\"\n",
    "        for cust in self.customers:\n",
    "            if Customer.location == 'checkout':\n",
    "                Customer.status = 'churned'\n",
    "                self.customers.remove(cust)    \n",
    "        return self.customers"
   ]
  },
  {
   "cell_type": "code",
   "execution_count": 7,
   "id": "6deb2a0d",
   "metadata": {},
   "outputs": [],
   "source": [
    "lidl = Supermarket()"
   ]
  },
  {
   "cell_type": "code",
   "execution_count": 11,
   "id": "0d79d34c",
   "metadata": {},
   "outputs": [
    {
     "ename": "UnboundLocalError",
     "evalue": "local variable 'current_time' referenced before assignment",
     "output_type": "error",
     "traceback": [
      "\u001b[0;31m---------------------------------------------------------------------------\u001b[0m",
      "\u001b[0;31mUnboundLocalError\u001b[0m                         Traceback (most recent call last)",
      "Input \u001b[0;32mIn [11]\u001b[0m, in \u001b[0;36m<cell line: 1>\u001b[0;34m()\u001b[0m\n\u001b[0;32m----> 1\u001b[0m \u001b[43mlidl\u001b[49m\u001b[38;5;241;43m.\u001b[39;49m\u001b[43mnext_minute\u001b[49m\u001b[43m(\u001b[49m\u001b[43m)\u001b[49m\n",
      "Input \u001b[0;32mIn [6]\u001b[0m, in \u001b[0;36mSupermarket.next_minute\u001b[0;34m(self)\u001b[0m\n\u001b[1;32m     71\u001b[0m \u001b[38;5;28;01mdef\u001b[39;00m \u001b[38;5;21mnext_minute\u001b[39m(\u001b[38;5;28mself\u001b[39m):\n\u001b[1;32m     72\u001b[0m     \u001b[38;5;124;03m\"\"\"propagates all customers to the next state.\u001b[39;00m\n\u001b[1;32m     73\u001b[0m \u001b[38;5;124;03m    \"\"\"\u001b[39;00m\n\u001b[0;32m---> 74\u001b[0m     current_time \u001b[38;5;241m=\u001b[39m \u001b[43mcurrent_time\u001b[49m \u001b[38;5;241m+\u001b[39m timedelta(minutes\u001b[38;5;241m=\u001b[39m\u001b[38;5;241m1\u001b[39m)\n\u001b[1;32m     75\u001b[0m     \u001b[38;5;28;01mfor\u001b[39;00m cust \u001b[38;5;129;01min\u001b[39;00m \u001b[38;5;28mself\u001b[39m\u001b[38;5;241m.\u001b[39mcustomers: \n\u001b[1;32m     76\u001b[0m         \u001b[38;5;28;01mwhile\u001b[39;00m Customer\u001b[38;5;241m.\u001b[39mlocation \u001b[38;5;241m!=\u001b[39m \u001b[38;5;124m'\u001b[39m\u001b[38;5;124mcheckout\u001b[39m\u001b[38;5;124m'\u001b[39m:\n",
      "\u001b[0;31mUnboundLocalError\u001b[0m: local variable 'current_time' referenced before assignment"
     ]
    }
   ],
   "source": [
    "lidl.next_minute()"
   ]
  },
  {
   "cell_type": "code",
   "execution_count": 14,
   "id": "127c86d0",
   "metadata": {},
   "outputs": [
    {
     "name": "stdout",
     "output_type": "stream",
     "text": [
      "Welcome to MARTkov, Open 24/7\n"
     ]
    },
    {
     "ename": "TypeError",
     "evalue": "__str__ returned non-string (type NoneType)",
     "output_type": "error",
     "traceback": [
      "\u001b[0;31m---------------------------------------------------------------------------\u001b[0m",
      "\u001b[0;31mTypeError\u001b[0m                                 Traceback (most recent call last)",
      "Input \u001b[0;32mIn [14]\u001b[0m, in \u001b[0;36m<cell line: 1>\u001b[0;34m()\u001b[0m\n\u001b[0;32m----> 1\u001b[0m \u001b[38;5;28;43mprint\u001b[39;49m\u001b[43m(\u001b[49m\u001b[43mlidl\u001b[49m\u001b[43m)\u001b[49m\n",
      "\u001b[0;31mTypeError\u001b[0m: __str__ returned non-string (type NoneType)"
     ]
    }
   ],
   "source": [
    "print(lidl)"
   ]
  },
  {
   "cell_type": "code",
   "execution_count": null,
   "id": "c2ca4ad8",
   "metadata": {},
   "outputs": [],
   "source": []
  }
 ],
 "metadata": {
  "kernelspec": {
   "display_name": "Python 3 (ipykernel)",
   "language": "python",
   "name": "python3"
  },
  "language_info": {
   "codemirror_mode": {
    "name": "ipython",
    "version": 3
   },
   "file_extension": ".py",
   "mimetype": "text/x-python",
   "name": "python",
   "nbconvert_exporter": "python",
   "pygments_lexer": "ipython3",
   "version": "3.9.12"
  }
 },
 "nbformat": 4,
 "nbformat_minor": 5
}
